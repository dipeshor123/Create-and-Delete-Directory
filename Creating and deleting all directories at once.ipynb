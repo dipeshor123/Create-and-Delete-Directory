{
 "cells": [
  {
   "cell_type": "markdown",
   "id": "93e81a83-5676-431b-b58f-1c5b8ef01b83",
   "metadata": {},
   "source": [
    "## Importing Library"
   ]
  },
  {
   "cell_type": "code",
   "execution_count": 1,
   "id": "6f751a2c-4c16-4691-9062-f82cf45c42e9",
   "metadata": {},
   "outputs": [],
   "source": [
    "import os\n",
    "import pandas as pd"
   ]
  },
  {
   "cell_type": "markdown",
   "id": "1b04268b-05d7-4cfc-a51f-94596aeb51d7",
   "metadata": {},
   "source": [
    "## Loading dataset"
   ]
  },
  {
   "cell_type": "code",
   "execution_count": 2,
   "id": "c6583474-4b38-440f-b841-d0c3abd6b19f",
   "metadata": {},
   "outputs": [
    {
     "data": {
      "text/html": [
       "<div>\n",
       "<style scoped>\n",
       "    .dataframe tbody tr th:only-of-type {\n",
       "        vertical-align: middle;\n",
       "    }\n",
       "\n",
       "    .dataframe tbody tr th {\n",
       "        vertical-align: top;\n",
       "    }\n",
       "\n",
       "    .dataframe thead th {\n",
       "        text-align: right;\n",
       "    }\n",
       "</style>\n",
       "<table border=\"1\" class=\"dataframe\">\n",
       "  <thead>\n",
       "    <tr style=\"text-align: right;\">\n",
       "      <th></th>\n",
       "      <th>District Name</th>\n",
       "      <th>Primary Level</th>\n",
       "      <th>Lower secondary</th>\n",
       "      <th>Secondary</th>\n",
       "      <th>Higher secondary</th>\n",
       "    </tr>\n",
       "  </thead>\n",
       "  <tbody>\n",
       "    <tr>\n",
       "      <th>0</th>\n",
       "      <td>Taplejung</td>\n",
       "      <td>1646</td>\n",
       "      <td>443</td>\n",
       "      <td>232</td>\n",
       "      <td>118</td>\n",
       "    </tr>\n",
       "    <tr>\n",
       "      <th>1</th>\n",
       "      <td>Sankhuwasabha</td>\n",
       "      <td>1740</td>\n",
       "      <td>468</td>\n",
       "      <td>294</td>\n",
       "      <td>120</td>\n",
       "    </tr>\n",
       "    <tr>\n",
       "      <th>2</th>\n",
       "      <td>Solukhumbu</td>\n",
       "      <td>1159</td>\n",
       "      <td>234</td>\n",
       "      <td>164</td>\n",
       "      <td>44</td>\n",
       "    </tr>\n",
       "    <tr>\n",
       "      <th>3</th>\n",
       "      <td>Panchthar</td>\n",
       "      <td>2264</td>\n",
       "      <td>579</td>\n",
       "      <td>341</td>\n",
       "      <td>114</td>\n",
       "    </tr>\n",
       "    <tr>\n",
       "      <th>4</th>\n",
       "      <td>Ilam</td>\n",
       "      <td>2383</td>\n",
       "      <td>698</td>\n",
       "      <td>401</td>\n",
       "      <td>213</td>\n",
       "    </tr>\n",
       "  </tbody>\n",
       "</table>\n",
       "</div>"
      ],
      "text/plain": [
       "   District Name Primary Level  Lower secondary  Secondary  Higher secondary\n",
       "0      Taplejung          1646              443        232               118\n",
       "1  Sankhuwasabha          1740              468        294               120\n",
       "2     Solukhumbu          1159              234        164                44\n",
       "3      Panchthar          2264              579        341               114\n",
       "4           Ilam          2383              698        401               213"
      ]
     },
     "execution_count": 2,
     "metadata": {},
     "output_type": "execute_result"
    }
   ],
   "source": [
    "df=pd.read_csv(r\"C:\\Users\\Dipes\\Downloads\\A\\total-number-of-teachers-at-all-levels-by-types-of-schools-2011-012.csv\")\n",
    "df.head()"
   ]
  },
  {
   "cell_type": "code",
   "execution_count": 3,
   "id": "f76b3cd4-6e5d-4e54-b9f2-1520b85eb6b8",
   "metadata": {},
   "outputs": [],
   "source": [
    "## Creating Directory on the basis of District Name"
   ]
  },
  {
   "cell_type": "code",
   "execution_count": 4,
   "id": "5fb166a3-fc4c-42b7-8ef5-f6e4bcd6cb85",
   "metadata": {},
   "outputs": [
    {
     "data": {
      "text/plain": [
       "76"
      ]
     },
     "execution_count": 4,
     "metadata": {},
     "output_type": "execute_result"
    }
   ],
   "source": [
    "len(df['District Name'].unique()) #total no. of district"
   ]
  },
  {
   "cell_type": "code",
   "execution_count": 5,
   "id": "e5f7d5fa-b410-4057-9eef-a704d13e190e",
   "metadata": {},
   "outputs": [],
   "source": [
    "df=df[~df['District Name'].str.contains('Total')]"
   ]
  },
  {
   "cell_type": "code",
   "execution_count": 6,
   "id": "9e236f20-c1c2-4eee-bc23-0c7e4f0ed5db",
   "metadata": {},
   "outputs": [
    {
     "data": {
      "text/plain": [
       "75"
      ]
     },
     "execution_count": 6,
     "metadata": {},
     "output_type": "execute_result"
    }
   ],
   "source": [
    "len(df['District Name'].unique())"
   ]
  },
  {
   "cell_type": "code",
   "execution_count": 9,
   "id": "6e7d0ef6-4627-4940-aae4-c44a8f5ff303",
   "metadata": {},
   "outputs": [],
   "source": [
    "destination_path=r\"C:\\Users\\Dipes\\Downloads\\A1\"\n",
    "for each in df['District Name']:\n",
    "    #print(each)\n",
    "    path1=os.path.join(destination_path,each)\n",
    "    os.makedirs(path1)\n",
    "    "
   ]
  },
  {
   "cell_type": "code",
   "execution_count": 19,
   "id": "059c046f-79f7-4fa8-b0d5-2793159561a1",
   "metadata": {},
   "outputs": [],
   "source": [
    "# Specify the directory path\n",
    "directory = r\"C:\\Users\\Dipes\\Downloads\\A1\"\n",
    "# Initialize an empty list for directories\n",
    "directories = []\n",
    "for each in os.listdir(directory):\n",
    "    path1=os.path.join(directory,each)\n",
    "    if os.path.isdir(path1):\n",
    "        directories.append(path1)\n",
    "        \n",
    "\n"
   ]
  },
  {
   "cell_type": "code",
   "execution_count": null,
   "id": "a5ef53ce-c4b6-40a7-b92e-5c1e7cf2cc6d",
   "metadata": {},
   "outputs": [],
   "source": [
    "for direct in directori"
   ]
  }
 ],
 "metadata": {
  "kernelspec": {
   "display_name": "Python 3 (ipykernel)",
   "language": "python",
   "name": "python3"
  },
  "language_info": {
   "codemirror_mode": {
    "name": "ipython",
    "version": 3
   },
   "file_extension": ".py",
   "mimetype": "text/x-python",
   "name": "python",
   "nbconvert_exporter": "python",
   "pygments_lexer": "ipython3",
   "version": "3.10.9"
  }
 },
 "nbformat": 4,
 "nbformat_minor": 5
}
